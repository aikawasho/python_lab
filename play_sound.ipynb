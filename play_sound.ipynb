{
 "cells": [
  {
   "cell_type": "code",
   "execution_count": 1,
   "metadata": {},
   "outputs": [],
   "source": [
    "import sounddevice as sd\n",
    "import numpy as np #NumPyは基本必須です。インポートしてください。\n",
    "import wave #オーディオファイルを扱いたい場合インポートし|ます\n"
   ]
  },
  {
   "cell_type": "code",
   "execution_count": 2,
   "metadata": {},
   "outputs": [],
   "source": [
    "fs = 192000\n",
    "sd.default.samplerate = fs"
   ]
  },
  {
   "cell_type": "code",
   "execution_count": 4,
   "metadata": {
    "scrolled": false
   },
   "outputs": [
    {
     "data": {
      "text/plain": [
       "   0 Microsoft Sound Mapper - Input, MME (2 in, 0 out)\n",
       ">  1 ADAT 1 (1+2) (RME Fireface 802), MME (2 in, 0 out)\n",
       "   2 Analog (3+4) (RME Fireface 802), MME (2 in, 0 out)\n",
       "   3 Analog (5+6) (RME Fireface 802), MME (2 in, 0 out)\n",
       "   4 Analog (9+10) (RME Fireface 802, MME (2 in, 0 out)\n",
       "   5 Analog (1+2) (RME Fireface 802), MME (2 in, 0 out)\n",
       "   6 Analog (7+8) (RME Fireface 802), MME (2 in, 0 out)\n",
       "   7 AES (RME Fireface 802), MME (2 in, 0 out)\n",
       "   8 Analog (11+12) (RME Fireface 80, MME (2 in, 0 out)\n",
       "   9 Microsoft Sound Mapper - Output, MME (0 in, 2 out)\n",
       "< 10 Analog (11+12) (RME Fireface 80, MME (0 in, 2 out)\n",
       "  11 AES (RME Fireface 802), MME (0 in, 2 out)\n",
       "  12 Analog (7+8) (RME Fireface 802), MME (0 in, 2 out)\n",
       "  13 スピーカー (RME Fireface 802), MME (0 in, 2 out)\n",
       "  14 スピーカー (Realtek High Defini, MME (0 in, 2 out)\n",
       "  15 ADAT 1 (1+2) (RME Fireface 802), MME (0 in, 2 out)\n",
       "  16 Analog (5+6) (RME Fireface 802), MME (0 in, 2 out)\n",
       "  17 Analog (9+10) (RME Fireface 802, MME (0 in, 2 out)\n",
       "  18 Analog (3+4) (RME Fireface 802), MME (0 in, 2 out)\n",
       "  19 プライマリ サウンド キャプチャ ドライバー, Windows DirectSound (2 in, 0 out)\n",
       "  20 ADAT 1 (1+2) (RME Fireface 802), Windows DirectSound (2 in, 0 out)\n",
       "  21 Analog (3+4) (RME Fireface 802), Windows DirectSound (2 in, 0 out)\n",
       "  22 Analog (5+6) (RME Fireface 802), Windows DirectSound (2 in, 0 out)\n",
       "  23 Analog (9+10) (RME Fireface 802), Windows DirectSound (2 in, 0 out)\n",
       "  24 Analog (1+2) (RME Fireface 802), Windows DirectSound (2 in, 0 out)\n",
       "  25 Analog (7+8) (RME Fireface 802), Windows DirectSound (2 in, 0 out)\n",
       "  26 AES (RME Fireface 802), Windows DirectSound (2 in, 0 out)\n",
       "  27 Analog (11+12) (RME Fireface 802), Windows DirectSound (2 in, 0 out)\n",
       "  28 プライマリ サウンド ドライバー, Windows DirectSound (0 in, 2 out)\n",
       "  29 Analog (11+12) (RME Fireface 802), Windows DirectSound (0 in, 2 out)\n",
       "  30 AES (RME Fireface 802), Windows DirectSound (0 in, 2 out)\n",
       "  31 Analog (7+8) (RME Fireface 802), Windows DirectSound (0 in, 2 out)\n",
       "  32 スピーカー (RME Fireface 802), Windows DirectSound (0 in, 2 out)\n",
       "  33 スピーカー (Realtek High Definition Audio), Windows DirectSound (0 in, 2 out)\n",
       "  34 ADAT 1 (1+2) (RME Fireface 802), Windows DirectSound (0 in, 2 out)\n",
       "  35 Analog (5+6) (RME Fireface 802), Windows DirectSound (0 in, 2 out)\n",
       "  36 Analog (9+10) (RME Fireface 802), Windows DirectSound (0 in, 2 out)\n",
       "  37 Analog (3+4) (RME Fireface 802), Windows DirectSound (0 in, 2 out)\n",
       "  38 ASIO Fireface USB, ASIO (16 in, 16 out)\n",
       "  39 AES (RME Fireface 802), Windows WASAPI (0 in, 2 out)\n",
       "  40 Analog (7+8) (RME Fireface 802), Windows WASAPI (0 in, 2 out)\n",
       "  41 スピーカー (RME Fireface 802), Windows WASAPI (0 in, 2 out)\n",
       "  42 Analog (11+12) (RME Fireface 802), Windows WASAPI (0 in, 2 out)\n",
       "  43 スピーカー (Realtek High Definition Audio), Windows WASAPI (0 in, 2 out)\n",
       "  44 ADAT 1 (1+2) (RME Fireface 802), Windows WASAPI (0 in, 2 out)\n",
       "  45 Analog (5+6) (RME Fireface 802), Windows WASAPI (0 in, 2 out)\n",
       "  46 Analog (9+10) (RME Fireface 802), Windows WASAPI (0 in, 2 out)\n",
       "  47 Analog (3+4) (RME Fireface 802), Windows WASAPI (0 in, 2 out)\n",
       "  48 ADAT 1 (1+2) (RME Fireface 802), Windows WASAPI (2 in, 0 out)\n",
       "  49 Analog (3+4) (RME Fireface 802), Windows WASAPI (2 in, 0 out)\n",
       "  50 Analog (5+6) (RME Fireface 802), Windows WASAPI (2 in, 0 out)\n",
       "  51 Analog (9+10) (RME Fireface 802), Windows WASAPI (2 in, 0 out)\n",
       "  52 Analog (1+2) (RME Fireface 802), Windows WASAPI (2 in, 0 out)\n",
       "  53 Analog (7+8) (RME Fireface 802), Windows WASAPI (2 in, 0 out)\n",
       "  54 AES (RME Fireface 802), Windows WASAPI (2 in, 0 out)\n",
       "  55 Analog (11+12) (RME Fireface 802), Windows WASAPI (2 in, 0 out)\n",
       "  56 ライン入力 (Realtek HD Audio Line input), Windows WDM-KS (2 in, 0 out)\n",
       "  57 ステレオ ミキサー (Realtek HD Audio Stereo input), Windows WDM-KS (2 in, 0 out)\n",
       "  58 Headphones (Realtek HD Audio 2nd output), Windows WDM-KS (0 in, 2 out)\n",
       "  59 マイク (Realtek HD Audio Mic input), Windows WDM-KS (2 in, 0 out)\n",
       "  60 Speakers (Realtek HD Audio output), Windows WDM-KS (0 in, 2 out)\n",
       "  61 Analog (9+10) (Fireface Analog (9+10)), Windows WDM-KS (0 in, 2 out)\n",
       "  62 Analog (9+10) (Fireface Analog (9+10)), Windows WDM-KS (2 in, 0 out)\n",
       "  63 Analog (3+4) (Fireface Analog (3+4)), Windows WDM-KS (0 in, 2 out)\n",
       "  64 Analog (3+4) (Fireface Analog (3+4)), Windows WDM-KS (2 in, 0 out)\n",
       "  65 Analog (11+12) (Fireface Analog (11+12)), Windows WDM-KS (0 in, 2 out)\n",
       "  66 Analog (11+12) (Fireface Analog (11+12)), Windows WDM-KS (2 in, 0 out)\n",
       "  67 Analog (5+6) (Fireface Analog (5+6)), Windows WDM-KS (0 in, 2 out)\n",
       "  68 Analog (5+6) (Fireface Analog (5+6)), Windows WDM-KS (2 in, 0 out)\n",
       "  69 AES (Fireface AES), Windows WDM-KS (0 in, 2 out)\n",
       "  70 AES (Fireface AES), Windows WDM-KS (2 in, 0 out)\n",
       "  71 Analog (7+8) (Fireface Analog (7+8)), Windows WDM-KS (0 in, 2 out)\n",
       "  72 Analog (7+8) (Fireface Analog (7+8)), Windows WDM-KS (2 in, 0 out)\n",
       "  73 ADAT 1 (1+2) (Fireface ADAT 1 (1+2)), Windows WDM-KS (0 in, 2 out)\n",
       "  74 ADAT 1 (1+2) (Fireface ADAT 1 (1+2)), Windows WDM-KS (2 in, 0 out)\n",
       "  75 Analog (1+2) (Fireface Analog (1+2)), Windows WDM-KS (0 in, 8 out)\n",
       "  76 Analog (1+2) (Fireface Analog (1+2)), Windows WDM-KS (2 in, 0 out)"
      ]
     },
     "execution_count": 4,
     "metadata": {},
     "output_type": "execute_result"
    }
   ],
   "source": [
    "sd.query_devices()"
   ]
  },
  {
   "cell_type": "code",
   "execution_count": 5,
   "metadata": {},
   "outputs": [],
   "source": [
    "sd.default.device = 38\n",
    "# sd.default.device = [4, 5]として入出力をそれぞれ設定することもできます。"
   ]
  },
  {
   "cell_type": "code",
   "execution_count": 6,
   "metadata": {},
   "outputs": [],
   "source": [
    "import math\n",
    "\n",
    "#ran = np.array([random.random()-0.5 for i in range(fs)])\n",
    "zeros = np.zeros(fs)\n",
    "pi = np.pi\n",
    "f1 = 40000\n",
    "f2 = 1000\n",
    "sin1 = np.sin(2*pi*f1*np.arange(0,fs)/fs)\n",
    "sin2 = np.sin(2*pi*f1*np.arange(0,fs)/fs+pi)\n",
    "sin3 = np.sin(2*pi*f2*np.arange(0,fs)/fs)\n",
    "sig = np.array([sin1,sin2,sin3])\n",
    "f_list = [f1,f1,f2]"
   ]
  },
  {
   "cell_type": "code",
   "execution_count": 7,
   "metadata": {
    "scrolled": true
   },
   "outputs": [],
   "source": [
    "#import matplotlib.pyplot as plt\n",
    "\n",
    "for i,s in enumerate(sig):\n",
    "    sigF = np.fft.fft(s, n=fs)\n",
    "\n",
    "    #fig = plt.figure(i)\n",
    " \n",
    "   # ax1 = fig.add_subplot(211,title = str(i))\n",
    "   # ax2 = fig.add_subplot(212)\n",
    "   # ax1.plot(20*np.log10(sigF[0:int(fs/2)]))\n",
    "   # ax2.plot(np.arange(0,int(fs/f_list[i])+2)/fs,s[0:int(fs/f_list[i])+2])\n",
    "   # plt.show()"
   ]
  },
  {
   "cell_type": "code",
   "execution_count": 72,
   "metadata": {},
   "outputs": [],
   "source": [
    "import json\n",
    "#アンプfullで20Vppになるように以下の配列を調整\n",
    "               #1   #2   #3     #4    #5     #6    #7   #8    #9     #10 \n",
    "#amp_list = [1.26,1.62,2.10,2.32 ,1.00,1.08,2.74,2.49]\n",
    "amp_list =  [0.267,0.340,0.585,0.520,0.540,0.218,0.530,0.262,0.112,0.132]\n",
    "\n",
    "\n",
    "sig_list = np.zeros((fs,16))\n",
    "sig_list[:,0] = sig[0]*amp_list[0]\n",
    "sig_list[:,1]= sig[0]*amp_list[1]\n",
    "sig_list[:,2] = sig[0]*amp_list[2]\n",
    "sig_list[:,3] = sig[0]*amp_list[3]\n",
    "sig_list[:,4] = sig[0]*amp_list[4]\n",
    "sig_list[:,5] = sig[0]*amp_list[5]\n",
    "sig_list[:,6] = sig[0]*amp_list[6]\n",
    "sig_list[:,7] = sig[0]*amp_list[7]\n",
    "sig_list[:,8] = sig[0]*amp_list[8]\n",
    "sig_list[:,9] = sig[0]*amp_list[9]\n",
    "\n",
    "df = dict()\n",
    "df[\"amp\"] = amp_list\n",
    "with open('amp_list.json', 'w') as f:\n",
    "    json.dump(df, f, ensure_ascii=False)"
   ]
  },
  {
   "cell_type": "code",
   "execution_count": 73,
   "metadata": {},
   "outputs": [],
   "source": [
    "#全部15Vppぐらいになるように調整\n",
    "sd.play(sig_list,fs,loop=True)"
   ]
  },
  {
   "cell_type": "code",
   "execution_count": 74,
   "metadata": {},
   "outputs": [],
   "source": [
    "sd.stop()"
   ]
  },
  {
   "cell_type": "code",
   "execution_count": 11,
   "metadata": {},
   "outputs": [],
   "source": [
    "#全部15Vppぐらいになるように調整\n",
    "sd.play(sig_list,fs,loop=True) "
   ]
  },
  {
   "cell_type": "code",
   "execution_count": 174,
   "metadata": {},
   "outputs": [],
   "source": [
    "sd.stop()"
   ]
  },
  {
   "cell_type": "code",
   "execution_count": 2,
   "metadata": {},
   "outputs": [
    {
     "ename": "NameError",
     "evalue": "name 'sd' is not defined",
     "output_type": "error",
     "traceback": [
      "\u001b[0;31m---------------------------------------------------------------------------\u001b[0m",
      "\u001b[0;31mNameError\u001b[0m                                 Traceback (most recent call last)",
      "\u001b[0;32m<ipython-input-2-83616263d036>\u001b[0m in \u001b[0;36m<module>\u001b[0;34m\u001b[0m\n\u001b[0;32m----> 1\u001b[0;31m \u001b[0msd\u001b[0m\u001b[0;34m.\u001b[0m\u001b[0mplay\u001b[0m\u001b[0;34m(\u001b[0m\u001b[0msig\u001b[0m\u001b[0;34m[\u001b[0m\u001b[0;36m1\u001b[0m\u001b[0;34m]\u001b[0m\u001b[0;34m,\u001b[0m\u001b[0mfs\u001b[0m\u001b[0;34m,\u001b[0m\u001b[0mloop\u001b[0m\u001b[0;34m=\u001b[0m\u001b[0;32mFalse\u001b[0m\u001b[0;34m)\u001b[0m\u001b[0;34m\u001b[0m\u001b[0;34m\u001b[0m\u001b[0m\n\u001b[0m\u001b[1;32m      2\u001b[0m \u001b[0msd\u001b[0m\u001b[0;34m.\u001b[0m\u001b[0mplay\u001b[0m\u001b[0;34m(\u001b[0m\u001b[0msig\u001b[0m\u001b[0;34m[\u001b[0m\u001b[0;36m1\u001b[0m\u001b[0;34m]\u001b[0m\u001b[0;34m,\u001b[0m\u001b[0mfs\u001b[0m\u001b[0;34m,\u001b[0m\u001b[0mloop\u001b[0m\u001b[0;34m=\u001b[0m\u001b[0;32mFalse\u001b[0m\u001b[0;34m)\u001b[0m\u001b[0;34m\u001b[0m\u001b[0;34m\u001b[0m\u001b[0m\n",
      "\u001b[0;31mNameError\u001b[0m: name 'sd' is not defined"
     ]
    }
   ],
   "source": [
    "sd.play(sig[1],fs,loop=False) \n",
    "sd.play(sig[1],fs,loop=False) "
   ]
  },
  {
   "cell_type": "code",
   "execution_count": 3,
   "metadata": {},
   "outputs": [
    {
     "ename": "NameError",
     "evalue": "name 'np' is not defined",
     "output_type": "error",
     "traceback": [
      "\u001b[0;31m---------------------------------------------------------------------------\u001b[0m",
      "\u001b[0;31mNameError\u001b[0m                                 Traceback (most recent call last)",
      "\u001b[0;32m<ipython-input-3-04aef058f2ec>\u001b[0m in \u001b[0;36m<module>\u001b[0;34m\u001b[0m\n\u001b[1;32m      1\u001b[0m \u001b[0;31m#ヘッドフォン出力のLRそれぞれからアナログ出力のLRを引く必要がある\u001b[0m\u001b[0;34m\u001b[0m\u001b[0;34m\u001b[0m\u001b[0;34m\u001b[0m\u001b[0m\n\u001b[0;32m----> 2\u001b[0;31m \u001b[0msig_list\u001b[0m \u001b[0;34m=\u001b[0m \u001b[0mnp\u001b[0m\u001b[0;34m.\u001b[0m\u001b[0mzeros\u001b[0m\u001b[0;34m(\u001b[0m\u001b[0;34m(\u001b[0m\u001b[0mfs\u001b[0m\u001b[0;34m,\u001b[0m\u001b[0;36m28\u001b[0m\u001b[0;34m)\u001b[0m\u001b[0;34m)\u001b[0m\u001b[0;34m\u001b[0m\u001b[0;34m\u001b[0m\u001b[0m\n\u001b[0m\u001b[1;32m      3\u001b[0m \u001b[0msig_list\u001b[0m\u001b[0;34m[\u001b[0m\u001b[0;34m:\u001b[0m\u001b[0;34m,\u001b[0m\u001b[0;36m0\u001b[0m\u001b[0;34m]\u001b[0m \u001b[0;34m=\u001b[0m \u001b[0msig\u001b[0m\u001b[0;34m[\u001b[0m\u001b[0;36m0\u001b[0m\u001b[0;34m]\u001b[0m\u001b[0;34m/\u001b[0m\u001b[0;36m12\u001b[0m\u001b[0;34m*\u001b[0m\u001b[0;36m20\u001b[0m\u001b[0;34m\u001b[0m\u001b[0;34m\u001b[0m\u001b[0m\n\u001b[1;32m      4\u001b[0m \u001b[0msig_list\u001b[0m\u001b[0;34m[\u001b[0m\u001b[0;34m:\u001b[0m\u001b[0;34m,\u001b[0m\u001b[0;36m1\u001b[0m\u001b[0;34m]\u001b[0m \u001b[0;34m=\u001b[0m \u001b[0msig\u001b[0m\u001b[0;34m[\u001b[0m\u001b[0;36m0\u001b[0m\u001b[0;34m]\u001b[0m\u001b[0;34m/\u001b[0m\u001b[0;36m4\u001b[0m\u001b[0;34m*\u001b[0m\u001b[0;36m12\u001b[0m\u001b[0;34m\u001b[0m\u001b[0;34m\u001b[0m\u001b[0m\n\u001b[1;32m      5\u001b[0m \u001b[0msig_list\u001b[0m\u001b[0;34m[\u001b[0m\u001b[0;34m:\u001b[0m\u001b[0;34m,\u001b[0m\u001b[0;36m2\u001b[0m\u001b[0;34m]\u001b[0m \u001b[0;34m=\u001b[0m \u001b[0msig\u001b[0m\u001b[0;34m[\u001b[0m\u001b[0;36m0\u001b[0m\u001b[0;34m]\u001b[0m\u001b[0;34m*\u001b[0m\u001b[0;36m3\u001b[0m\u001b[0;34m\u001b[0m\u001b[0;34m\u001b[0m\u001b[0m\n",
      "\u001b[0;31mNameError\u001b[0m: name 'np' is not defined"
     ]
    }
   ],
   "source": [
    "#ヘッドフォン出力のLRそれぞれからアナログ出力のLRを引く必要がある\n",
    "sig_list = np.zeros((fs,28))\n",
    "sig_list[:,0] = sig[0]/12*20\n",
    "sig_list[:,1] = sig[0]/4*12\n",
    "sig_list[:,2] = sig[0]*3\n",
    "sig_list[:,3] = sig[0]*415/100\n",
    "sig_list[:,14] = sig[0]*95/100\n",
    "sig_list[:,15] = sig[0]*13/10\n",
    "sig_list[:,16] = sig[0]*28/10\n",
    "sig_list[:,17] = sig[0]*14/10"
   ]
  },
  {
   "cell_type": "code",
   "execution_count": 4,
   "metadata": {},
   "outputs": [
    {
     "ename": "NameError",
     "evalue": "name 'np' is not defined",
     "output_type": "error",
     "traceback": [
      "\u001b[0;31m---------------------------------------------------------------------------\u001b[0m",
      "\u001b[0;31mNameError\u001b[0m                                 Traceback (most recent call last)",
      "\u001b[0;32m<ipython-input-4-1b7f8f82e761>\u001b[0m in \u001b[0;36m<module>\u001b[0;34m\u001b[0m\n\u001b[0;32m----> 1\u001b[0;31m \u001b[0msig_list\u001b[0m \u001b[0;34m=\u001b[0m \u001b[0mnp\u001b[0m\u001b[0;34m.\u001b[0m\u001b[0mzeros\u001b[0m\u001b[0;34m(\u001b[0m\u001b[0;34m(\u001b[0m\u001b[0mfs\u001b[0m\u001b[0;34m,\u001b[0m\u001b[0;36m14\u001b[0m\u001b[0;34m)\u001b[0m\u001b[0;34m)\u001b[0m\u001b[0;34m\u001b[0m\u001b[0;34m\u001b[0m\u001b[0m\n\u001b[0m\u001b[1;32m      2\u001b[0m \u001b[0msig_list\u001b[0m\u001b[0;34m[\u001b[0m\u001b[0;34m:\u001b[0m\u001b[0;34m,\u001b[0m\u001b[0;36m2\u001b[0m\u001b[0;34m]\u001b[0m \u001b[0;34m=\u001b[0m \u001b[0;36m1.7\u001b[0m\u001b[0;34m*\u001b[0m\u001b[0msig\u001b[0m\u001b[0;34m[\u001b[0m\u001b[0;36m0\u001b[0m\u001b[0;34m]\u001b[0m\u001b[0;34m\u001b[0m\u001b[0;34m\u001b[0m\u001b[0m\n\u001b[1;32m      3\u001b[0m \u001b[0msd\u001b[0m\u001b[0;34m.\u001b[0m\u001b[0mplay\u001b[0m\u001b[0;34m(\u001b[0m\u001b[0msig_list\u001b[0m\u001b[0;34m,\u001b[0m\u001b[0mfs\u001b[0m\u001b[0;34m,\u001b[0m\u001b[0mloop\u001b[0m\u001b[0;34m=\u001b[0m\u001b[0;32mTrue\u001b[0m\u001b[0;34m)\u001b[0m\u001b[0;34m\u001b[0m\u001b[0;34m\u001b[0m\u001b[0m\n",
      "\u001b[0;31mNameError\u001b[0m: name 'np' is not defined"
     ]
    }
   ],
   "source": [
    "sig_list = np.zeros((fs,14))\n",
    "sig_list[:,2] = 1.7*sig[0]\n",
    "sd.play(sig_list,fs,loop=True) "
   ]
  },
  {
   "cell_type": "code",
   "execution_count": null,
   "metadata": {},
   "outputs": [],
   "source": [
    "sd.stop()"
   ]
  },
  {
   "cell_type": "code",
   "execution_count": null,
   "metadata": {},
   "outputs": [],
   "source": [
    "duration = 5.5  # seconds\n",
    "def callback(indata, outdata, frames, time, status):\n",
    "    if status:\n",
    "        print(status)\n",
    "    outdata[:] = indata\n",
    "\n",
    "with sd.Stream(channels=2, callback=callback):\n",
    "    sd.sleep(int(duration * 1000))"
   ]
  },
  {
   "cell_type": "code",
   "execution_count": null,
   "metadata": {},
   "outputs": [],
   "source": [
    "!python3  plot_input.py"
   ]
  },
  {
   "cell_type": "code",
   "execution_count": null,
   "metadata": {},
   "outputs": [],
   "source": [
    "sd.default.query_devices()"
   ]
  },
  {
   "cell_type": "code",
   "execution_count": 5,
   "metadata": {},
   "outputs": [
    {
     "data": {
      "text/plain": [
       "0"
      ]
     },
     "execution_count": 5,
     "metadata": {},
     "output_type": "execute_result"
    }
   ],
   "source": [
    "sd.default.blocksize"
   ]
  },
  {
   "cell_type": "code",
   "execution_count": null,
   "metadata": {},
   "outputs": [],
   "source": []
  }
 ],
 "metadata": {
  "kernelspec": {
   "display_name": "Python 3 (ipykernel)",
   "language": "python",
   "name": "python3"
  },
  "language_info": {
   "codemirror_mode": {
    "name": "ipython",
    "version": 3
   },
   "file_extension": ".py",
   "mimetype": "text/x-python",
   "name": "python",
   "nbconvert_exporter": "python",
   "pygments_lexer": "ipython3",
   "version": "3.9.5"
  }
 },
 "nbformat": 4,
 "nbformat_minor": 2
}
