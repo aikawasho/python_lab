{
 "cells": [
  {
   "cell_type": "code",
   "execution_count": 6,
   "id": "c596c250",
   "metadata": {},
   "outputs": [
    {
     "name": "stdout",
     "output_type": "stream",
     "text": [
      "[-25.   -24.9  -24.8  -24.7  -24.6  -24.5  -24.4  -24.3  -24.2  -24.1\n",
      " -24.   -23.9  -23.8  -23.7  -23.6  -23.5  -23.4  -23.3  -23.2  -23.1\n",
      " -23.   -22.9  -22.8  -22.7  -22.6  -22.5  -22.4  -22.3  -22.2  -22.1\n",
      " -22.   -21.9  -21.8  -21.7  -21.6  -21.5  -21.4  -21.3  -21.2  -21.01\n",
      " -21.   -20.9  -20.8  -20.7  -20.6  -20.5  -20.4  -20.3  -20.2  -20.1\n",
      " -20.   -19.9  -19.8  -19.7  -19.6  -19.5  -19.4  -19.3  -19.2  -19.1\n",
      " -19.   -18.9  -18.8  -18.7  -18.6  -18.5  -18.4  -18.3  -18.2  -18.1\n",
      " -18.   -17.9  -17.8  -17.7  -17.6  -17.5  -17.4  -17.3  -17.2  -17.1\n",
      " -17.   -16.9  -16.8  -16.7  -16.6  -16.5  -16.4  -16.3  -16.2  -16.1\n",
      " -16.   -15.9  -15.8  -15.7  -15.6  -15.5  -15.4  -15.3  -15.2  -15.1\n",
      " -15.   -14.9  -14.8  -14.7  -14.6  -14.5  -14.4  -14.3  -14.2  -14.1\n",
      " -14.   -13.9  -13.8  -13.7  -13.6  -13.5  -13.4  -13.3  -13.2  -13.1\n",
      " -13.   -12.9  -12.8  -12.7  -12.6  -12.5  -12.4  -12.3  -12.2  -12.1\n",
      " -12.   -11.9  -11.8  -11.7  -11.6  -11.5  -11.4  -11.3  -11.2  -11.1\n",
      " -11.   -10.9  -10.8  -10.7  -10.6  -10.5  -10.4  -10.3  -10.2  -10.1\n",
      " -10.    -9.9   -9.8   -9.7   -9.6   -9.5   -9.4   -9.3   -9.2   -9.1\n",
      "  -9.    -8.9   -8.8   -8.7   -8.6   -8.5   -8.4   -8.3   -8.2   -8.1\n",
      "  -8.    -7.9   -7.8   -7.7   -7.6   -7.5   -7.4   -7.3   -7.2   -7.1\n",
      "  -7.    -6.9   -6.8   -6.7   -6.6   -6.5   -6.4   -6.3   -6.2   -6.1\n",
      "  -6.    -5.9   -5.8   -5.7   -5.6   -5.5   -5.4   -5.3   -5.2   -5.1\n",
      "  -5.    -4.9   -4.8   -4.7   -4.6   -4.5   -4.4   -4.3   -4.2   -4.1\n",
      "  -4.    -3.9   -3.8   -3.7   -3.6   -3.5   -3.4   -3.3   -3.2   -3.1\n",
      "  -3.    -2.9   -2.8   -2.7   -2.6   -2.5   -2.4   -2.3   -2.2   -2.1\n",
      "  -2.    -1.9   -1.8   -1.7   -1.6   -1.5   -1.4   -1.3   -1.2   -1.1\n",
      "  -1.    -0.9   -0.8   -0.7   -0.6   -0.5   -0.4   -0.3   -0.2   -0.1 ]\n"
     ]
    }
   ],
   "source": [
    "import numpy as np\n",
    "\n",
    "tp_list1 =  np.arange(-25,-21.1,0.1)\n",
    "tp_list1 = np.append(tp_list1,-21.01)\n",
    "tp_list2 =  np.arange(-21.0,0.0,0.1)\n",
    "\n",
    "tp_list = np.concatenate([tp_list1,tp_list2])\n",
    "\n",
    "tp_list = np.round(tp_list, 2)\n",
    "print(tp_list)"
   ]
  },
  {
   "cell_type": "code",
   "execution_count": 8,
   "id": "a92acbb2",
   "metadata": {},
   "outputs": [],
   "source": [
    "import scipy.io as sio\n",
    "filename ='C:/Users/108ga/Documents/laboratory/Documents/klo-lab/210721/ch643_Bw-25-21.0.mat'\n",
    "phase_0 = sio.loadmat(filename)\n",
    "p = phase_0['phix']"
   ]
  },
  {
   "cell_type": "code",
   "execution_count": 9,
   "id": "ae138c6a",
   "metadata": {},
   "outputs": [
    {
     "name": "stdout",
     "output_type": "stream",
     "text": [
      "[[1.         1.        ]\n",
      " [1.         1.        ]\n",
      " [1.         1.        ]\n",
      " [1.20212056 0.85345821]\n",
      " [0.73365011 0.9325893 ]\n",
      " [1.06422935 1.1246396 ]\n",
      " [1.         1.        ]\n",
      " [1.         1.        ]]\n"
     ]
    }
   ],
   "source": [
    "print(p)"
   ]
  },
  {
   "cell_type": "code",
   "execution_count": 21,
   "id": "d5910a86",
   "metadata": {},
   "outputs": [
    {
     "name": "stdout",
     "output_type": "stream",
     "text": [
      "[[-1.62022705]\n",
      " [-0.93281625]\n",
      " [-0.30560103]\n",
      " [-0.63530141]\n",
      " [ 1.3835659 ]\n",
      " [ 0.79321817]\n",
      " [-3.02526729]]\n",
      "[[0.84784764]\n",
      " [0.98654101]\n",
      " [0.37362028]\n",
      " [1.28174613]\n",
      " [1.09215636]\n",
      " [1.5       ]\n",
      " [1.23423367]]\n"
     ]
    }
   ],
   "source": [
    "filename ='C:/Users/108ga/Documents/laboratory/Documents/klo-lab/210713/7LSGw-25_-7.0.mat'\n",
    "phase_0 = sio.loadmat(filename)\n",
    "p = phase_0['phix']\n",
    "A_sin0 = phase_0['sin_A']   \n",
    "print(p)\n",
    "print(A_sin0)"
   ]
  },
  {
   "cell_type": "code",
   "execution_count": null,
   "id": "470abcb4",
   "metadata": {},
   "outputs": [],
   "source": []
  }
 ],
 "metadata": {
  "kernelspec": {
   "display_name": "Python 3 (ipykernel)",
   "language": "python",
   "name": "python3"
  },
  "language_info": {
   "codemirror_mode": {
    "name": "ipython",
    "version": 3
   },
   "file_extension": ".py",
   "mimetype": "text/x-python",
   "name": "python",
   "nbconvert_exporter": "python",
   "pygments_lexer": "ipython3",
   "version": "3.9.5"
  }
 },
 "nbformat": 4,
 "nbformat_minor": 5
}
